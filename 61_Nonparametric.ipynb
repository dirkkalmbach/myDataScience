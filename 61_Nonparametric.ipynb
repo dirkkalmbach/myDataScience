{
 "cells": [
  {
   "cell_type": "markdown",
   "metadata": {},
   "source": [
    "# Nonparametrics\n",
    "\n",
    "> Fill in a module description here"
   ]
  },
  {
   "cell_type": "code",
   "execution_count": null,
   "metadata": {},
   "outputs": [],
   "source": []
  },
  {
   "cell_type": "code",
   "execution_count": null,
   "metadata": {},
   "outputs": [],
   "source": [
    "#| hide\n",
    "from nbdev.showdoc import *"
   ]
  },
  {
   "cell_type": "code",
   "execution_count": null,
   "metadata": {},
   "outputs": [],
   "source": []
  },
  {
   "cell_type": "markdown",
   "metadata": {},
   "source": [
    "## Mann-Whitney-U"
   ]
  },
  {
   "cell_type": "markdown",
   "metadata": {},
   "source": [
    "### Characteristics\n",
    "- high test ...\n",
    "- \n",
    "\n",
    "### Use Cases\n",
    "1. metric data: 🤷🏼‍♀️ if *bad* distribution, e.g.:\n",
    "    - not normal distributed\n",
    "    - not same variance in all groups\n",
    "2. nominal & ordinal data: 👈 always!\n",
    "\n",
    "### Prerequesites\n",
    "- number of observation in each sample is > 20 and\n",
    "- 2 independent samples"
   ]
  },
  {
   "cell_type": "code",
   "execution_count": null,
   "metadata": {},
   "outputs": [],
   "source": [
    "males = [19, 22, 16, 29, 24]\n",
    "females = [20, 11, 17, 12]\n",
    "females =  [20, 22, 16, 29, 24]\n",
    "\n",
    "RQ = [17,16,15,17,14,7,4,15,8,16]\n",
    "VL = [11,12,12,12,11,6,12,11,5,12]\n",
    "#df = pd.Dataframe(data={})"
   ]
  },
  {
   "cell_type": "code",
   "execution_count": null,
   "metadata": {},
   "outputs": [
    {
     "name": "stdout",
     "output_type": "stream",
     "text": [
      "0.07269453596053689\n",
      "74.0\n"
     ]
    }
   ],
   "source": [
    "from scipy.stats import mannwhitneyu\n",
    "U1, p = mannwhitneyu(RQ, VL, alternative=\"two-sided\")\n",
    "print(p)\n",
    "print(U1)"
   ]
  },
  {
   "cell_type": "code",
   "execution_count": null,
   "metadata": {},
   "outputs": [
    {
     "name": "stdout",
     "output_type": "stream",
     "text": [
      "\u001b[0;31mSignature:\u001b[0m \u001b[0mmannwhitneyu\u001b[0m\u001b[0;34m(\u001b[0m\u001b[0mx\u001b[0m\u001b[0;34m,\u001b[0m \u001b[0my\u001b[0m\u001b[0;34m,\u001b[0m \u001b[0muse_continuity\u001b[0m\u001b[0;34m=\u001b[0m\u001b[0;32mTrue\u001b[0m\u001b[0;34m,\u001b[0m \u001b[0malternative\u001b[0m\u001b[0;34m=\u001b[0m\u001b[0;32mNone\u001b[0m\u001b[0;34m)\u001b[0m\u001b[0;34m\u001b[0m\u001b[0;34m\u001b[0m\u001b[0m\n",
      "\u001b[0;31mDocstring:\u001b[0m\n",
      "Compute the Mann-Whitney rank test on samples x and y.\n",
      "\n",
      "Parameters\n",
      "----------\n",
      "x, y : array_like\n",
      "    Array of samples, should be one-dimensional.\n",
      "use_continuity : bool, optional\n",
      "        Whether a continuity correction (1/2.) should be taken into\n",
      "        account. Default is True.\n",
      "alternative : {None, 'two-sided', 'less', 'greater'}, optional\n",
      "    Defines the alternative hypothesis.\n",
      "    The following options are available (default is None):\n",
      "\n",
      "      * None: computes p-value half the size of the 'two-sided' p-value and\n",
      "        a different U statistic. The default behavior is not the same as\n",
      "        using 'less' or 'greater'; it only exists for backward compatibility\n",
      "        and is deprecated.\n",
      "      * 'two-sided'\n",
      "      * 'less': one-sided\n",
      "      * 'greater': one-sided\n",
      "\n",
      "    Use of the None option is deprecated.\n",
      "\n",
      "Returns\n",
      "-------\n",
      "statistic : float\n",
      "    The Mann-Whitney U statistic, equal to min(U for x, U for y) if\n",
      "    `alternative` is equal to None (deprecated; exists for backward\n",
      "    compatibility), and U for y otherwise.\n",
      "pvalue : float\n",
      "    p-value assuming an asymptotic normal distribution. One-sided or\n",
      "    two-sided, depending on the choice of `alternative`.\n",
      "\n",
      "Notes\n",
      "-----\n",
      "Use only when the number of observation in each sample is > 20 and\n",
      "you have 2 independent samples of ranks. Mann-Whitney U is\n",
      "significant if the u-obtained is LESS THAN or equal to the critical\n",
      "value of U.\n",
      "\n",
      "This test corrects for ties and by default uses a continuity correction.\n",
      "\n",
      "References\n",
      "----------\n",
      ".. [1] https://en.wikipedia.org/wiki/Mann-Whitney_U_test\n",
      "\n",
      ".. [2] H.B. Mann and D.R. Whitney, \"On a Test of Whether one of Two Random\n",
      "       Variables is Stochastically Larger than the Other,\" The Annals of\n",
      "       Mathematical Statistics, vol. 18, no. 1, pp. 50-60, 1947.\n",
      "\u001b[0;31mFile:\u001b[0m      ~/opt/miniconda3/lib/python3.7/site-packages/scipy/stats/stats.py\n",
      "\u001b[0;31mType:\u001b[0m      function\n"
     ]
    }
   ],
   "source": [
    "mannwhitneyu?"
   ]
  },
  {
   "cell_type": "markdown",
   "metadata": {},
   "source": [
    "## Non-parametric Statistics"
   ]
  },
  {
   "cell_type": "code",
   "execution_count": null,
   "metadata": {},
   "outputs": [],
   "source": [
    "def say_hello(to):\n",
    "    \"Say hello to somebody\"\n",
    "    return f'Hello {to}!'"
   ]
  },
  {
   "cell_type": "code",
   "execution_count": null,
   "metadata": {},
   "outputs": [
    {
     "data": {
      "text/plain": [
       "'Hello Isaac!'"
      ]
     },
     "execution_count": null,
     "metadata": {},
     "output_type": "execute_result"
    }
   ],
   "source": [
    "say_hello(\"Isaac\")"
   ]
  },
  {
   "cell_type": "code",
   "execution_count": null,
   "metadata": {},
   "outputs": [],
   "source": [
    "assert say_hello(\"Hamel\")==\"Hello Hamel!\""
   ]
  },
  {
   "cell_type": "code",
   "execution_count": null,
   "metadata": {},
   "outputs": [
    {
     "data": {
      "image/svg+xml": "<svg xmlns=\"http://www.w3.org/2000/svg\" height=\"100\"><circle cx=\"50\" cy=\"50\" r=\"40\"/></svg>",
      "text/plain": [
       "<IPython.core.display.SVG object>"
      ]
     },
     "metadata": {},
     "output_type": "display_data"
    }
   ],
   "source": [
    "from IPython.display import display,SVG\n",
    "display(SVG('<svg height=\"100\" xmlns=\"http://www.w3.org/2000/svg\"><circle cx=\"50\" cy=\"50\" r=\"40\"/></svg>'))"
   ]
  },
  {
   "cell_type": "markdown",
   "metadata": {},
   "source": []
  }
 ],
 "metadata": {
  "kernelspec": {
   "display_name": "DataScience3.9",
   "language": "python",
   "name": "datascience3.9"
  }
 },
 "nbformat": 4,
 "nbformat_minor": 4
}

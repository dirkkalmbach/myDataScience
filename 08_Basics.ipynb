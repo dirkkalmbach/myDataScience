{
 "cells": [
  {
   "cell_type": "markdown",
   "metadata": {},
   "source": [
    "# Basics\n",
    "\n",
    "> some basic code snippets I often need and should put into sinple functions"
   ]
  },
  {
   "cell_type": "code",
   "execution_count": null,
   "metadata": {},
   "outputs": [],
   "source": [
    "#| default_exp basics"
   ]
  },
  {
   "cell_type": "code",
   "execution_count": null,
   "metadata": {},
   "outputs": [],
   "source": [
    "#| hide\n",
    "from nbdev.showdoc import *"
   ]
  },
  {
   "cell_type": "code",
   "execution_count": null,
   "metadata": {},
   "outputs": [],
   "source": [
    "#| export\n",
    "def foo(): pass"
   ]
  },
  {
   "cell_type": "markdown",
   "metadata": {},
   "source": [
    "## Credentials"
   ]
  },
  {
   "cell_type": "markdown",
   "metadata": {},
   "source": [
    "### Simplest Approach: `config.py`"
   ]
  },
  {
   "cell_type": "code",
   "execution_count": null,
   "metadata": {},
   "outputs": [
    {
     "data": {
      "text/plain": [
       "'123456789abc'"
      ]
     },
     "execution_count": null,
     "metadata": {},
     "output_type": "execute_result"
    }
   ],
   "source": [
    "import sys\n",
    "sys.path.append('/Users/dirkkalmbach/.mycredentials')\n",
    "\n",
    "import config\n",
    "config.api_test"
   ]
  },
  {
   "cell_type": "markdown",
   "metadata": {},
   "source": [
    "### Newer Approach: `configparser`\n",
    "... "
   ]
  },
  {
   "cell_type": "markdown",
   "metadata": {},
   "source": [
    "## Reload Modules"
   ]
  },
  {
   "cell_type": "code",
   "execution_count": null,
   "metadata": {},
   "outputs": [
    {
     "data": {
      "text/plain": [
       "'123456789abc'"
      ]
     },
     "execution_count": null,
     "metadata": {},
     "output_type": "execute_result"
    }
   ],
   "source": [
    "from importlib import reload  # Python 3.4+\n",
    "config = reload(config)\n",
    "config.api_test"
   ]
  },
  {
   "cell_type": "markdown",
   "metadata": {},
   "source": [
    "## Datetime"
   ]
  },
  {
   "cell_type": "code",
   "execution_count": null,
   "metadata": {},
   "outputs": [],
   "source": [
    "# good documentation: https://pynative.com/python-timestamp/\n",
    "# TIME DATA\n",
    "\n",
    "# timestamp -> datetime (e.g. y, h, min, ...)\n",
    "from datetime import datetime\n",
    "ts = 1617295943.17321\n",
    "dt = datetime.fromtimestamp(ts, tz=None) #tz=None <- computer timezone\n",
    "\n",
    "# datetime -> timestamp\n",
    "dt_str = \"23.02.2022 09:12:00\" # date in string format\n",
    "dt = datetime.strptime(dt_str, '%d.%m.%Y %H:%M:%S')\n",
    "ts = int(datetime.timestamp(dt)) #dt -> ts\n",
    "\n",
    "# current timestamp\n",
    "from datetime import datetime\n",
    "dt = datetime.now() ##as datetime\n",
    "ts = datetime.timestamp(dt) #as timestamp\n",
    "ts = int(ts) #convert to integer"
   ]
  },
  {
   "cell_type": "markdown",
   "metadata": {},
   "source": [
    "## Temperature 🌡"
   ]
  },
  {
   "cell_type": "code",
   "execution_count": null,
   "metadata": {},
   "outputs": [],
   "source": [
    "# GET CELSIUS\n",
    "def kelvin_to_celsius(k): return k-273.15\n",
    "def fahrenheit_to_celsius(f): return 5/9*(f-32)"
   ]
  },
  {
   "cell_type": "markdown",
   "metadata": {},
   "source": []
  }
 ],
 "metadata": {
  "kernelspec": {
   "display_name": "Python 3.9.7 ('DataScience')",
   "language": "python",
   "name": "python3"
  }
 },
 "nbformat": 4,
 "nbformat_minor": 4
}

{
 "cells": [
  {
   "cell_type": "markdown",
   "metadata": {},
   "source": [
    "# Setup Issues ⚙️\n",
    "\n",
    "> Configuration, Setups, Errors & Co."
   ]
  },
  {
   "cell_type": "code",
   "execution_count": null,
   "metadata": {},
   "outputs": [],
   "source": []
  },
  {
   "cell_type": "code",
   "execution_count": 1,
   "metadata": {},
   "outputs": [],
   "source": [
    "#| hide\n",
    "from nbdev.showdoc import *"
   ]
  },
  {
   "cell_type": "markdown",
   "metadata": {},
   "source": [
    "## Library Imports 📒🛬"
   ]
  },
  {
   "cell_type": "markdown",
   "metadata": {},
   "source": [
    "|LIBRARY|VERSION|IMPORT-COMMAND|NOTES|\n",
    "|--|--|--|--|\n",
    "|scikit-learn||`conda install -c conda-forge scikit-learn`||"
   ]
  },
  {
   "cell_type": "markdown",
   "metadata": {},
   "source": []
  }
 ],
 "metadata": {
  "kernelspec": {
   "display_name": "Python 3.9.13 ('DataScience39')",
   "language": "python",
   "name": "python3"
  },
  "language_info": {
   "codemirror_mode": {
    "name": "ipython",
    "version": 3
   },
   "file_extension": ".py",
   "mimetype": "text/x-python",
   "name": "python",
   "nbconvert_exporter": "python",
   "pygments_lexer": "ipython3",
   "version": "3.9.13"
  },
  "vscode": {
   "interpreter": {
    "hash": "f57289c77e2d8cd201eb7ebf7d940d5ecfadb582d35a244d42c196eee58ad87c"
   }
  }
 },
 "nbformat": 4,
 "nbformat_minor": 4
}

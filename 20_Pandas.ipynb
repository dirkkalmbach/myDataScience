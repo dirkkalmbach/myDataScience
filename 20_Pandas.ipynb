{
 "cells": [
  {
   "cell_type": "markdown",
   "metadata": {},
   "source": [
    "# Pandas 🐼\n",
    "\n",
    "> Fill in a module description here"
   ]
  },
  {
   "cell_type": "code",
   "execution_count": null,
   "metadata": {},
   "outputs": [],
   "source": [
    "#| default_exp pandas"
   ]
  },
  {
   "cell_type": "code",
   "execution_count": null,
   "metadata": {},
   "outputs": [],
   "source": [
    "#| hide\n",
    "from nbdev.showdoc import *"
   ]
  },
  {
   "cell_type": "code",
   "execution_count": null,
   "metadata": {},
   "outputs": [],
   "source": [
    "#| export\n",
    "def foo(): pass"
   ]
  },
  {
   "cell_type": "code",
   "execution_count": null,
   "metadata": {},
   "outputs": [],
   "source": [
    "import pandas as pd\n",
    "import numpy as np"
   ]
  },
  {
   "cell_type": "code",
   "execution_count": null,
   "metadata": {},
   "outputs": [
    {
     "data": {
      "text/html": [
       "<div>\n",
       "<style scoped>\n",
       "    .dataframe tbody tr th:only-of-type {\n",
       "        vertical-align: middle;\n",
       "    }\n",
       "\n",
       "    .dataframe tbody tr th {\n",
       "        vertical-align: top;\n",
       "    }\n",
       "\n",
       "    .dataframe thead th {\n",
       "        text-align: right;\n",
       "    }\n",
       "</style>\n",
       "<table border=\"1\" class=\"dataframe\">\n",
       "  <thead>\n",
       "    <tr style=\"text-align: right;\">\n",
       "      <th></th>\n",
       "      <th>A</th>\n",
       "      <th>B</th>\n",
       "      <th>C</th>\n",
       "    </tr>\n",
       "  </thead>\n",
       "  <tbody>\n",
       "    <tr>\n",
       "      <th>1</th>\n",
       "      <td>-0.538783</td>\n",
       "      <td>1.305363</td>\n",
       "      <td>0.679392</td>\n",
       "    </tr>\n",
       "    <tr>\n",
       "      <th>2</th>\n",
       "      <td>-0.449776</td>\n",
       "      <td>-1.046616</td>\n",
       "      <td>0.396743</td>\n",
       "    </tr>\n",
       "    <tr>\n",
       "      <th>3</th>\n",
       "      <td>-0.173677</td>\n",
       "      <td>-0.286526</td>\n",
       "      <td>1.522839</td>\n",
       "    </tr>\n",
       "    <tr>\n",
       "      <th>4</th>\n",
       "      <td>-0.178211</td>\n",
       "      <td>-0.040888</td>\n",
       "      <td>-1.314384</td>\n",
       "    </tr>\n",
       "    <tr>\n",
       "      <th>5</th>\n",
       "      <td>0.216197</td>\n",
       "      <td>0.254990</td>\n",
       "      <td>1.197324</td>\n",
       "    </tr>\n",
       "  </tbody>\n",
       "</table>\n",
       "</div>"
      ],
      "text/plain": [
       "          A         B         C\n",
       "1 -0.538783  1.305363  0.679392\n",
       "2 -0.449776 -1.046616  0.396743\n",
       "3 -0.173677 -0.286526  1.522839\n",
       "4 -0.178211 -0.040888 -1.314384\n",
       "5  0.216197  0.254990  1.197324"
      ]
     },
     "execution_count": null,
     "metadata": {},
     "output_type": "execute_result"
    }
   ],
   "source": [
    "# CREATE SAMPLE DATAFRAME\n",
    "index = pd.date_range(\"1/1/2000\", periods=8)\n",
    "index = np.arange(1,9)\n",
    "df = pd.DataFrame(np.random.randn(8, 3), index=index, columns=[\"A\", \"B\", \"C\"])\n",
    "df.head()"
   ]
  },
  {
   "cell_type": "code",
   "execution_count": null,
   "metadata": {},
   "outputs": [
    {
     "data": {
      "text/html": [
       "<div>\n",
       "<style scoped>\n",
       "    .dataframe tbody tr th:only-of-type {\n",
       "        vertical-align: middle;\n",
       "    }\n",
       "\n",
       "    .dataframe tbody tr th {\n",
       "        vertical-align: top;\n",
       "    }\n",
       "\n",
       "    .dataframe thead th {\n",
       "        text-align: right;\n",
       "    }\n",
       "</style>\n",
       "<table border=\"1\" class=\"dataframe\">\n",
       "  <thead>\n",
       "    <tr style=\"text-align: right;\">\n",
       "      <th></th>\n",
       "      <th>z</th>\n",
       "      <th>b</th>\n",
       "      <th>c</th>\n",
       "    </tr>\n",
       "  </thead>\n",
       "  <tbody>\n",
       "    <tr>\n",
       "      <th>1</th>\n",
       "      <td>-0.538783</td>\n",
       "      <td>1.305363</td>\n",
       "      <td>0.679392</td>\n",
       "    </tr>\n",
       "    <tr>\n",
       "      <th>2</th>\n",
       "      <td>-0.449776</td>\n",
       "      <td>-1.046616</td>\n",
       "      <td>0.396743</td>\n",
       "    </tr>\n",
       "    <tr>\n",
       "      <th>3</th>\n",
       "      <td>-0.173677</td>\n",
       "      <td>-0.286526</td>\n",
       "      <td>1.522839</td>\n",
       "    </tr>\n",
       "    <tr>\n",
       "      <th>4</th>\n",
       "      <td>-0.178211</td>\n",
       "      <td>-0.040888</td>\n",
       "      <td>-1.314384</td>\n",
       "    </tr>\n",
       "    <tr>\n",
       "      <th>5</th>\n",
       "      <td>0.216197</td>\n",
       "      <td>0.254990</td>\n",
       "      <td>1.197324</td>\n",
       "    </tr>\n",
       "  </tbody>\n",
       "</table>\n",
       "</div>"
      ],
      "text/plain": [
       "          z         b         c\n",
       "1 -0.538783  1.305363  0.679392\n",
       "2 -0.449776 -1.046616  0.396743\n",
       "3 -0.173677 -0.286526  1.522839\n",
       "4 -0.178211 -0.040888 -1.314384\n",
       "5  0.216197  0.254990  1.197324"
      ]
     },
     "execution_count": null,
     "metadata": {},
     "output_type": "execute_result"
    }
   ],
   "source": [
    "# CHANGE COLUMN NAMES\n",
    "df.columns = [x.lower() for x in df.columns]\n",
    "df.columns = [x.replace(\"a\",\"z\") for x in df.columns]\n",
    "df.head()"
   ]
  },
  {
   "cell_type": "code",
   "execution_count": null,
   "metadata": {},
   "outputs": [
    {
     "data": {
      "text/plain": [
       "<PandasArray>\n",
       "['z', 'b', 'c']\n",
       "Length: 3, dtype: object"
      ]
     },
     "execution_count": null,
     "metadata": {},
     "output_type": "execute_result"
    }
   ],
   "source": [
    "# CONVERT DATA TYPES\n",
    "df.columns.to_numpy() #pd.index -> np.array\n",
    "# == np.array(df.columns)\n",
    "\n",
    "df.columns.array #pd.index -> pd.array\n",
    "# == pd.array(df.columns)"
   ]
  },
  {
   "cell_type": "code",
   "execution_count": null,
   "metadata": {},
   "outputs": [
    {
     "data": {
      "text/plain": [
       "0   2000-01-01 00:00:00+08:00\n",
       "1   2000-01-02 00:00:00+08:00\n",
       "dtype: datetime64[ns, Asia/Shanghai]"
      ]
     },
     "execution_count": null,
     "metadata": {},
     "output_type": "execute_result"
    }
   ],
   "source": [
    "# TIMEZONES\n",
    "pd.Series(pd.date_range(\"2000\", periods=2, tz=\"America/New_York\"))\n",
    "pd.Series(pd.date_range(\"2000\", periods=2, tz=\"Europe/Berlin\"))\n",
    "pd.Series(pd.date_range(\"2000\", periods=2, tz=\"Asia/Shanghai\"))"
   ]
  },
  {
   "cell_type": "code",
   "execution_count": null,
   "metadata": {},
   "outputs": [
    {
     "data": {
      "text/plain": [
       "DatetimeIndex(['2000-01-01 08:00:01', '2000-01-01 08:00:02',\n",
       "               '2000-01-01 08:00:03', '2000-01-01 08:00:04'],\n",
       "              dtype='datetime64[ns]', freq='S')"
      ]
     },
     "execution_count": null,
     "metadata": {},
     "output_type": "execute_result"
    }
   ],
   "source": [
    "#CREATE TIME RANGES\n",
    "pd.date_range(\"1/1/2000 08:00:01\", \"1/2/2000 08:04:08\", freq=\"min\")\n",
    "pd.date_range(\"1/1/2000 08:00:01\", periods=4, freq=\"s\") #m, w, d, h, min, s\n"
   ]
  },
  {
   "cell_type": "markdown",
   "metadata": {},
   "source": []
  }
 ],
 "metadata": {
  "kernelspec": {
   "display_name": "Python 3.9.7 ('DataScience')",
   "language": "python",
   "name": "python3"
  }
 },
 "nbformat": 4,
 "nbformat_minor": 4
}
